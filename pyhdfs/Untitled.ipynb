{
 "cells": [
  {
   "cell_type": "code",
   "execution_count": 5,
   "metadata": {},
   "outputs": [
    {
     "name": "stdout",
     "output_type": "stream",
     "text": [
      "fs <pyhdfs.HdfsClient object at 0x0000022510E28828>\n"
     ]
    }
   ],
   "source": [
    "import pyhdfs\n",
    "\n",
    "fs = pyhdfs.HdfsClient(hosts=\"192.168.28.183\", user_name=\"local-183.amiintellect.com\")  # 这两种连接方式都可以\n",
    "# fs = pyhdfs.HdfsClient(hosts=\"192.168.130.163,9000\", user_name=\"root\")\n",
    "print('fs',fs)"
   ]
  },
  {
   "cell_type": "code",
   "execution_count": 6,
   "metadata": {},
   "outputs": [
    {
     "name": "stderr",
     "output_type": "stream",
     "text": [
      "Failed to reach to 192.168.28.183:50070 (attempt 2/2)\n",
      "Traceback (most recent call last):\n",
      "  File \"f:\\陶士来文件\\software\\python3_6_5\\lib\\site-packages\\urllib3\\connection.py\", line 159, in _new_conn\n",
      "    (self._dns_host, self.port), self.timeout, **extra_kw)\n",
      "  File \"f:\\陶士来文件\\software\\python3_6_5\\lib\\site-packages\\urllib3\\util\\connection.py\", line 80, in create_connection\n",
      "    raise err\n",
      "  File \"f:\\陶士来文件\\software\\python3_6_5\\lib\\site-packages\\urllib3\\util\\connection.py\", line 70, in create_connection\n",
      "    sock.connect(sa)\n",
      "socket.timeout: timed out\n",
      "\n",
      "During handling of the above exception, another exception occurred:\n",
      "\n",
      "Traceback (most recent call last):\n",
      "  File \"f:\\陶士来文件\\software\\python3_6_5\\lib\\site-packages\\urllib3\\connectionpool.py\", line 600, in urlopen\n",
      "    chunked=chunked)\n",
      "  File \"f:\\陶士来文件\\software\\python3_6_5\\lib\\site-packages\\urllib3\\connectionpool.py\", line 354, in _make_request\n",
      "    conn.request(method, url, **httplib_request_kw)\n",
      "  File \"f:\\陶士来文件\\software\\python3_6_5\\lib\\http\\client.py\", line 1239, in request\n",
      "    self._send_request(method, url, body, headers, encode_chunked)\n",
      "  File \"f:\\陶士来文件\\software\\python3_6_5\\lib\\http\\client.py\", line 1285, in _send_request\n",
      "    self.endheaders(body, encode_chunked=encode_chunked)\n",
      "  File \"f:\\陶士来文件\\software\\python3_6_5\\lib\\http\\client.py\", line 1234, in endheaders\n",
      "    self._send_output(message_body, encode_chunked=encode_chunked)\n",
      "  File \"f:\\陶士来文件\\software\\python3_6_5\\lib\\http\\client.py\", line 1026, in _send_output\n",
      "    self.send(msg)\n",
      "  File \"f:\\陶士来文件\\software\\python3_6_5\\lib\\http\\client.py\", line 964, in send\n",
      "    self.connect()\n",
      "  File \"f:\\陶士来文件\\software\\python3_6_5\\lib\\site-packages\\urllib3\\connection.py\", line 181, in connect\n",
      "    conn = self._new_conn()\n",
      "  File \"f:\\陶士来文件\\software\\python3_6_5\\lib\\site-packages\\urllib3\\connection.py\", line 164, in _new_conn\n",
      "    (self.host, self.timeout))\n",
      "urllib3.exceptions.ConnectTimeoutError: (<urllib3.connection.HTTPConnection object at 0x0000022510EBF550>, 'Connection to 192.168.28.183 timed out. (connect timeout=20)')\n",
      "\n",
      "During handling of the above exception, another exception occurred:\n",
      "\n",
      "Traceback (most recent call last):\n",
      "  File \"f:\\陶士来文件\\software\\python3_6_5\\lib\\site-packages\\requests\\adapters.py\", line 449, in send\n",
      "    timeout=timeout\n",
      "  File \"f:\\陶士来文件\\software\\python3_6_5\\lib\\site-packages\\urllib3\\connectionpool.py\", line 638, in urlopen\n",
      "    _stacktrace=sys.exc_info()[2])\n",
      "  File \"f:\\陶士来文件\\software\\python3_6_5\\lib\\site-packages\\urllib3\\util\\retry.py\", line 398, in increment\n",
      "    raise MaxRetryError(_pool, url, error or ResponseError(cause))\n",
      "urllib3.exceptions.MaxRetryError: HTTPConnectionPool(host='192.168.28.183', port=50070): Max retries exceeded with url: /webhdfs/v1/?user.name=local-183.amiintellect.com&op=GETHOMEDIRECTORY (Caused by ConnectTimeoutError(<urllib3.connection.HTTPConnection object at 0x0000022510EBF550>, 'Connection to 192.168.28.183 timed out. (connect timeout=20)'))\n",
      "\n",
      "During handling of the above exception, another exception occurred:\n",
      "\n",
      "Traceback (most recent call last):\n",
      "  File \"f:\\陶士来文件\\software\\python3_6_5\\lib\\site-packages\\pyhdfs\\__init__.py\", line 424, in _request\n",
      "    **self._requests_kwargs\n",
      "  File \"f:\\陶士来文件\\software\\python3_6_5\\lib\\site-packages\\requests\\api.py\", line 60, in request\n",
      "    return session.request(method=method, url=url, **kwargs)\n",
      "  File \"f:\\陶士来文件\\software\\python3_6_5\\lib\\site-packages\\requests\\sessions.py\", line 533, in request\n",
      "    resp = self.send(prep, **send_kwargs)\n",
      "  File \"f:\\陶士来文件\\software\\python3_6_5\\lib\\site-packages\\requests\\sessions.py\", line 646, in send\n",
      "    r = adapter.send(request, **kwargs)\n",
      "  File \"f:\\陶士来文件\\software\\python3_6_5\\lib\\site-packages\\requests\\adapters.py\", line 504, in send\n",
      "    raise ConnectTimeout(e, request=request)\n",
      "requests.exceptions.ConnectTimeout: HTTPConnectionPool(host='192.168.28.183', port=50070): Max retries exceeded with url: /webhdfs/v1/?user.name=local-183.amiintellect.com&op=GETHOMEDIRECTORY (Caused by ConnectTimeoutError(<urllib3.connection.HTTPConnection object at 0x0000022510EBF550>, 'Connection to 192.168.28.183 timed out. (connect timeout=20)'))\n"
     ]
    },
    {
     "ename": "HdfsNoServerException",
     "evalue": "Could not use any of the given hosts",
     "output_type": "error",
     "traceback": [
      "\u001b[1;31m---------------------------------------------------------------------------\u001b[0m",
      "\u001b[1;31mHdfsNoServerException\u001b[0m                     Traceback (most recent call last)",
      "\u001b[1;32m<ipython-input-6-88ae5809e7ab>\u001b[0m in \u001b[0;36m<module>\u001b[1;34m\u001b[0m\n\u001b[1;32m----> 1\u001b[1;33m \u001b[0mprint\u001b[0m\u001b[1;33m(\u001b[0m\u001b[0mfs\u001b[0m\u001b[1;33m.\u001b[0m\u001b[0mget_home_directory\u001b[0m\u001b[1;33m(\u001b[0m\u001b[1;33m)\u001b[0m\u001b[1;33m)\u001b[0m\u001b[1;33m\u001b[0m\u001b[0m\n\u001b[0m",
      "\u001b[1;32mf:\\陶士来文件\\software\\python3_6_5\\lib\\site-packages\\pyhdfs\\__init__.py\u001b[0m in \u001b[0;36mget_home_directory\u001b[1;34m(self, **kwargs)\u001b[0m\n\u001b[0;32m    651\u001b[0m     \u001b[1;32mdef\u001b[0m \u001b[0mget_home_directory\u001b[0m\u001b[1;33m(\u001b[0m\u001b[0mself\u001b[0m\u001b[1;33m,\u001b[0m \u001b[1;33m**\u001b[0m\u001b[0mkwargs\u001b[0m\u001b[1;33m:\u001b[0m \u001b[0m_PossibleArgumentTypes\u001b[0m\u001b[1;33m)\u001b[0m \u001b[1;33m->\u001b[0m \u001b[0mstr\u001b[0m\u001b[1;33m:\u001b[0m\u001b[1;33m\u001b[0m\u001b[0m\n\u001b[0;32m    652\u001b[0m         \u001b[1;34m\"\"\"Return the current user's home directory in this filesystem.\"\"\"\u001b[0m\u001b[1;33m\u001b[0m\u001b[0m\n\u001b[1;32m--> 653\u001b[1;33m         \u001b[0mresponse\u001b[0m \u001b[1;33m=\u001b[0m \u001b[0m_json\u001b[0m\u001b[1;33m(\u001b[0m\u001b[0mself\u001b[0m\u001b[1;33m.\u001b[0m\u001b[0m_get\u001b[0m\u001b[1;33m(\u001b[0m\u001b[1;34m'/'\u001b[0m\u001b[1;33m,\u001b[0m \u001b[1;34m'GETHOMEDIRECTORY'\u001b[0m\u001b[1;33m,\u001b[0m \u001b[1;33m**\u001b[0m\u001b[0mkwargs\u001b[0m\u001b[1;33m)\u001b[0m\u001b[1;33m)\u001b[0m\u001b[1;33m[\u001b[0m\u001b[1;34m'Path'\u001b[0m\u001b[1;33m]\u001b[0m\u001b[1;33m\u001b[0m\u001b[0m\n\u001b[0m\u001b[0;32m    654\u001b[0m         \u001b[1;32massert\u001b[0m \u001b[0misinstance\u001b[0m\u001b[1;33m(\u001b[0m\u001b[0mresponse\u001b[0m\u001b[1;33m,\u001b[0m \u001b[0mstr\u001b[0m\u001b[1;33m)\u001b[0m\u001b[1;33m,\u001b[0m \u001b[0mtype\u001b[0m\u001b[1;33m(\u001b[0m\u001b[0mresponse\u001b[0m\u001b[1;33m)\u001b[0m\u001b[1;33m\u001b[0m\u001b[0m\n\u001b[0;32m    655\u001b[0m         \u001b[1;32mreturn\u001b[0m \u001b[0mresponse\u001b[0m\u001b[1;33m\u001b[0m\u001b[0m\n",
      "\u001b[1;32mf:\\陶士来文件\\software\\python3_6_5\\lib\\site-packages\\pyhdfs\\__init__.py\u001b[0m in \u001b[0;36m_get\u001b[1;34m(self, path, op, expected_status, **kwargs)\u001b[0m\n\u001b[0;32m    448\u001b[0m              \u001b[1;33m**\u001b[0m\u001b[0mkwargs\u001b[0m\u001b[1;33m:\u001b[0m \u001b[0m_PossibleArgumentTypes\u001b[0m\u001b[1;33m,\u001b[0m\u001b[1;33m\u001b[0m\u001b[0m\n\u001b[0;32m    449\u001b[0m              ) -> requests.Response:\n\u001b[1;32m--> 450\u001b[1;33m         \u001b[1;32mreturn\u001b[0m \u001b[0mself\u001b[0m\u001b[1;33m.\u001b[0m\u001b[0m_request\u001b[0m\u001b[1;33m(\u001b[0m\u001b[1;34m'get'\u001b[0m\u001b[1;33m,\u001b[0m \u001b[0mpath\u001b[0m\u001b[1;33m,\u001b[0m \u001b[0mop\u001b[0m\u001b[1;33m,\u001b[0m \u001b[0mexpected_status\u001b[0m\u001b[1;33m,\u001b[0m \u001b[1;33m**\u001b[0m\u001b[0mkwargs\u001b[0m\u001b[1;33m)\u001b[0m\u001b[1;33m\u001b[0m\u001b[0m\n\u001b[0m\u001b[0;32m    451\u001b[0m \u001b[1;33m\u001b[0m\u001b[0m\n\u001b[0;32m    452\u001b[0m     def _put(self,\n",
      "\u001b[1;32mf:\\陶士来文件\\software\\python3_6_5\\lib\\site-packages\\pyhdfs\\__init__.py\u001b[0m in \u001b[0;36m_request\u001b[1;34m(self, method, path, op, expected_status, **kwargs)\u001b[0m\n\u001b[0;32m    440\u001b[0m             \u001b[1;32mif\u001b[0m \u001b[0mi\u001b[0m \u001b[1;33m!=\u001b[0m \u001b[0mself\u001b[0m\u001b[1;33m.\u001b[0m\u001b[0mmax_tries\u001b[0m \u001b[1;33m-\u001b[0m \u001b[1;36m1\u001b[0m\u001b[1;33m:\u001b[0m\u001b[1;33m\u001b[0m\u001b[0m\n\u001b[0;32m    441\u001b[0m                 \u001b[0mtime\u001b[0m\u001b[1;33m.\u001b[0m\u001b[0msleep\u001b[0m\u001b[1;33m(\u001b[0m\u001b[0mself\u001b[0m\u001b[1;33m.\u001b[0m\u001b[0mretry_delay\u001b[0m\u001b[1;33m)\u001b[0m\u001b[1;33m\u001b[0m\u001b[0m\n\u001b[1;32m--> 442\u001b[1;33m         \u001b[1;32mraise\u001b[0m \u001b[0mHdfsNoServerException\u001b[0m\u001b[1;33m(\u001b[0m\u001b[1;34m\"Could not use any of the given hosts\"\u001b[0m\u001b[1;33m)\u001b[0m\u001b[1;33m\u001b[0m\u001b[0m\n\u001b[0m\u001b[0;32m    443\u001b[0m \u001b[1;33m\u001b[0m\u001b[0m\n\u001b[0;32m    444\u001b[0m     def _get(self,\n",
      "\u001b[1;31mHdfsNoServerException\u001b[0m: Could not use any of the given hosts"
     ]
    }
   ],
   "source": [
    "print(fs.get_home_directory())"
   ]
  },
  {
   "cell_type": "code",
   "execution_count": null,
   "metadata": {},
   "outputs": [],
   "source": [
    "print(fs.get_active_namenode())"
   ]
  },
  {
   "cell_type": "code",
   "execution_count": null,
   "metadata": {},
   "outputs": [],
   "source": []
  }
 ],
 "metadata": {
  "kernelspec": {
   "display_name": "Python 3",
   "language": "python",
   "name": "python3"
  },
  "language_info": {
   "codemirror_mode": {
    "name": "ipython",
    "version": 3
   },
   "file_extension": ".py",
   "mimetype": "text/x-python",
   "name": "python",
   "nbconvert_exporter": "python",
   "pygments_lexer": "ipython3",
   "version": "3.6.5"
  }
 },
 "nbformat": 4,
 "nbformat_minor": 2
}
