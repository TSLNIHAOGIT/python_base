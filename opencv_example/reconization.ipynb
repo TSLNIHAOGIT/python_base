{
 "cells": [
  {
   "cell_type": "code",
   "execution_count": 1,
   "metadata": {},
   "outputs": [],
   "source": [
    "ls"
   ]
  },
  {
   "cell_type": "code",
   "execution_count": 1,
   "metadata": {},
   "outputs": [],
   "source": [
    "# -*- coding: utf-8 -*-\n",
    "\n",
    " \n",
    "\n",
    "import cv2\n",
    "\n",
    "import numpy as np\n",
    "import os"
   ]
  },
  {
   "cell_type": "code",
   "execution_count": 2,
   "metadata": {},
   "outputs": [],
   "source": [
    "# 读取图片\n",
    "\n",
    "imagePath = './cv.png'\n",
    "if os.path.exists(imagePath):\n",
    "    img = cv2.imread(imagePath)\n",
    "else:\n",
    "    print('err','路径不存在')"
   ]
  },
  {
   "cell_type": "code",
   "execution_count": 3,
   "metadata": {},
   "outputs": [
    {
     "data": {
      "text/plain": [
       "(276, 296, 3)"
      ]
     },
     "execution_count": 3,
     "metadata": {},
     "output_type": "execute_result"
    }
   ],
   "source": [
    "img.shape"
   ]
  },
  {
   "cell_type": "code",
   "execution_count": 4,
   "metadata": {},
   "outputs": [],
   "source": [
    "# 转化成灰度图\n",
    "gray = cv2.cvtColor(img,cv2.COLOR_BGR2GRAY)\n",
    "\n"
   ]
  },
  {
   "cell_type": "code",
   "execution_count": 5,
   "metadata": {},
   "outputs": [],
   "source": [
    "\n",
    "# cv2.imshow('img', img)\n",
    "# cv2.waitKey(0)\n",
    "# cv2.destroyAllWindows()"
   ]
  },
  {
   "cell_type": "code",
   "execution_count": null,
   "metadata": {},
   "outputs": [],
   "source": []
  },
  {
   "cell_type": "code",
   "execution_count": 6,
   "metadata": {},
   "outputs": [],
   "source": [
    "\n",
    "# 利用Sobel边缘检测生成二值图\n",
    "\n",
    "sobel = cv2.Sobel(gray, cv2.CV_8U, 1, 0,ksize=3)"
   ]
  },
  {
   "cell_type": "code",
   "execution_count": 7,
   "metadata": {},
   "outputs": [],
   "source": [
    "# 二值化\n",
    "\n",
    "ret, binary = cv2.threshold(sobel, 0, 255,cv2.THRESH_OTSU + cv2.THRESH_BINARY)\n"
   ]
  },
  {
   "cell_type": "code",
   "execution_count": 8,
   "metadata": {},
   "outputs": [],
   "source": [
    "# 膨胀、腐蚀\n",
    "\n",
    "element1 = cv2.getStructuringElement(cv2.MORPH_RECT,(30, 9))\n",
    "\n",
    "element2 =cv2.getStructuringElement(cv2.MORPH_RECT, (24, 6))"
   ]
  },
  {
   "cell_type": "code",
   "execution_count": 9,
   "metadata": {},
   "outputs": [],
   "source": [
    "# 膨胀一次，让轮廓突出\n",
    "\n",
    "dilation = cv2.dilate(binary, element2,iterations=1)\n",
    "\n",
    " \n",
    "\n",
    "# 腐蚀一次，去掉细节\n",
    "\n",
    "erosion = cv2.erode(dilation, element1,iterations=1)\n",
    "\n",
    " \n",
    "\n",
    "# 再次膨胀，让轮廓明显一些\n",
    "\n",
    "dilation2 = cv2.dilate(erosion, element2,iterations=2)"
   ]
  },
  {
   "cell_type": "code",
   "execution_count": 13,
   "metadata": {},
   "outputs": [
    {
     "name": "stdout",
     "output_type": "stream",
     "text": [
      "rect is: \n",
      "((147.5, 137.5), (295.0, 275.0), -0.0)\n",
      "0 (4, 2)\n",
      "1 (4, 2)\n",
      "rect is: \n",
      "((160.0, 22.5), (72.0, 23.0), -0.0)\n",
      "0 (4, 2)\n",
      "1 (4, 2)\n"
     ]
    }
   ],
   "source": [
    "\n",
    "#  查找轮廓和筛选文字区域\n",
    "\n",
    "region = []\n",
    "\n",
    "binary,contours, hierarchy =cv2.findContours(dilation2, cv2.RETR_TREE, cv2.CHAIN_APPROX_SIMPLE)\n",
    "\n",
    "for i in range(len(contours)):\n",
    "\n",
    "   cnt = contours[i]\n",
    "\n",
    " \n",
    "\n",
    "    #计算轮廓面积，并筛选掉面积小的\n",
    "\n",
    "   area = cv2.contourArea(cnt)\n",
    "\n",
    "   if (area < 1000):\n",
    "\n",
    "       continue\n",
    "\n",
    " \n",
    "\n",
    "    #找到最小的矩形\n",
    "\n",
    "   rect = cv2.minAreaRect(cnt)\n",
    "\n",
    "   print (\"rect is: \")\n",
    "\n",
    "   print (rect)\n",
    "\n",
    " \n",
    "\n",
    "    #box是四个点的坐标\n",
    "\n",
    "   box = cv2.boxPoints(rect)\n",
    "   print('0',np.array(box).shape)\n",
    "\n",
    "   box = np.int0(box)\n",
    "   print('1',np.array(box).shape)\n",
    "\n",
    " \n",
    "\n",
    "    #计算高和宽\n",
    "\n",
    "   height = abs(box[0][1] - box[2][1])\n",
    "\n",
    "   width = abs(box[0][0] - box[2][0])\n",
    "\n",
    " \n",
    "\n",
    "    #根据文字特征，筛选那些太细的矩形，留下扁的\n",
    "\n",
    "   if (height > width * 1.3):\n",
    "\n",
    "       continue\n",
    "\n",
    " \n",
    "\n",
    "   region.append(box)\n"
   ]
  },
  {
   "cell_type": "code",
   "execution_count": 13,
   "metadata": {},
   "outputs": [],
   "source": [
    "\n",
    "# 绘制轮廓\n",
    "\n",
    "for box in region:\n",
    "\n",
    "   cv2.drawContours(img, [box], 0, (0, 255, 0), 2)"
   ]
  },
  {
   "cell_type": "code",
   "execution_count": 12,
   "metadata": {},
   "outputs": [
    {
     "name": "stdout",
     "output_type": "stream",
     "text": [
      "[[  0 275]\n",
      " [  0   0]\n",
      " [295   0]\n",
      " [295 275]]\n",
      "[[124  34]\n",
      " [124  11]\n",
      " [196  11]\n",
      " [196  34]]\n"
     ]
    }
   ],
   "source": [
    "\n",
    "for box in region:\n",
    "    print(np.array(box))"
   ]
  },
  {
   "cell_type": "code",
   "execution_count": 16,
   "metadata": {},
   "outputs": [
    {
     "data": {
      "text/plain": [
       "array([124,  11], dtype=int64)"
      ]
     },
     "execution_count": 16,
     "metadata": {},
     "output_type": "execute_result"
    }
   ],
   "source": [
    "box[1]"
   ]
  },
  {
   "cell_type": "code",
   "execution_count": 17,
   "metadata": {},
   "outputs": [
    {
     "data": {
      "text/plain": [
       "array([196,  34], dtype=int64)"
      ]
     },
     "execution_count": 17,
     "metadata": {},
     "output_type": "execute_result"
    }
   ],
   "source": [
    "box[3]"
   ]
  },
  {
   "cell_type": "code",
   "execution_count": null,
   "metadata": {},
   "outputs": [],
   "source": [
    "\n",
    "\n",
    "\n",
    " \n",
    "\n",
    "# cv2.imshow('img', img)\n",
    "\n",
    "# cv2.waitKey(0)\n",
    "\n",
    "# cv2.destroyAllWindows()"
   ]
  },
  {
   "cell_type": "code",
   "execution_count": 3,
   "metadata": {},
   "outputs": [],
   "source": [
    "# 读取图片\n",
    "\n",
    "# img = cv2.imread(imagePath)\n",
    " \n",
    "# 灰度化\n",
    "gray = cv2.cvtColor(img,cv2.COLOR_BGR2GRAY)\n",
    "vis = img.copy()\n",
    "orig = img.copy()\n",
    " \n",
    "# 调用 MSER 算法\n",
    "mser = cv2.MSER_create()\n",
    "regions, _ = mser.detectRegions(gray)  # 获取文本区域\n",
    "hulls = [cv2.convexHull(p.reshape(-1, 1,2)) for p in regions]  # 绘制文本区域\n",
    "cv2.polylines(img, hulls, 1, (0, 255, 0))\n",
    "cv2.imshow('img', img)\n",
    " \n",
    "# 将不规则检测框处理成矩形框\n",
    "keep = []\n",
    "for c in hulls:\n",
    "   x, y, w, h = cv2.boundingRect(c)\n",
    "   keep.append([x, y, x + w, y + h])\n",
    "   cv2.rectangle(vis, (x, y), (x + w, y + h), (255, 255, 0), 1)\n",
    "cv2.imshow(\"hulls\",vis)"
   ]
  },
  {
   "cell_type": "code",
   "execution_count": null,
   "metadata": {},
   "outputs": [],
   "source": []
  },
  {
   "cell_type": "code",
   "execution_count": null,
   "metadata": {},
   "outputs": [],
   "source": []
  }
 ],
 "metadata": {
  "kernelspec": {
   "display_name": "Python 3",
   "language": "python",
   "name": "python3"
  },
  "language_info": {
   "codemirror_mode": {
    "name": "ipython",
    "version": 3
   },
   "file_extension": ".py",
   "mimetype": "text/x-python",
   "name": "python",
   "nbconvert_exporter": "python",
   "pygments_lexer": "ipython3",
   "version": "3.6.5"
  }
 },
 "nbformat": 4,
 "nbformat_minor": 2
}
