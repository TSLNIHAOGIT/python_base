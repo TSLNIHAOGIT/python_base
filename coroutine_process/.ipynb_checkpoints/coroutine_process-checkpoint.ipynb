{
 "cells": [
  {
   "cell_type": "code",
   "execution_count": 1,
   "metadata": {},
   "outputs": [],
   "source": [
    "# ➊协程使用生成器函数定义：定义体中有yield 关键字\n",
    "def simple_coroutine(): \n",
    "   print('-> coroutine started')\n",
    "   #➋ yield 在表达式中使用；如果协程只需从客户那里接收数据，那么产出的值是None——\n",
    "   #这个值是隐式指定的，因为yield 关键字右边没有表达式。\n",
    "   x = yield # \n",
    "   print('-> coroutine received:', x)\n",
    " "
   ]
  },
  {
   "cell_type": "code",
   "execution_count": 2,
   "metadata": {},
   "outputs": [
    {
     "data": {
      "text/plain": [
       "<generator object simple_coroutine at 0x000002C02E0DE3B8>"
      ]
     },
     "execution_count": 2,
     "metadata": {},
     "output_type": "execute_result"
    }
   ],
   "source": [
    "#➌ 与创建生成器的方式一样，调用函数得到生成器对象。\n",
    "my_coro = simple_coroutine()\n",
    "my_coro #"
   ]
  },
  {
   "cell_type": "code",
   "execution_count": 4,
   "metadata": {},
   "outputs": [
    {
     "name": "stdout",
     "output_type": "stream",
     "text": [
      "-> coroutine started\n"
     ]
    }
   ],
   "source": [
    "#➍ 首先要调用next(...) 函数，因为生成器还没启动，没在yield 语句处暂停，所以一开\n",
    "#始无法发送数据。即要先启动才能发送数据\n",
    "\n",
    "next(my_coro)"
   ]
  },
  {
   "cell_type": "code",
   "execution_count": 5,
   "metadata": {},
   "outputs": [
    {
     "name": "stdout",
     "output_type": "stream",
     "text": [
      "-> coroutine received: 42\n"
     ]
    },
    {
     "ename": "StopIteration",
     "evalue": "",
     "output_type": "error",
     "traceback": [
      "\u001b[1;31m---------------------------------------------------------------------------\u001b[0m",
      "\u001b[1;31mStopIteration\u001b[0m                             Traceback (most recent call last)",
      "\u001b[1;32m<ipython-input-5-864da9bb8350>\u001b[0m in \u001b[0;36m<module>\u001b[1;34m\u001b[0m\n\u001b[1;32m----> 1\u001b[1;33m \u001b[0mmy_coro\u001b[0m\u001b[1;33m.\u001b[0m\u001b[0msend\u001b[0m\u001b[1;33m(\u001b[0m\u001b[1;36m42\u001b[0m\u001b[1;33m)\u001b[0m \u001b[1;31m# ➎\u001b[0m\u001b[1;33m\u001b[0m\u001b[0m\n\u001b[0m",
      "\u001b[1;31mStopIteration\u001b[0m: "
     ]
    }
   ],
   "source": [
    "#➎调用这个方法后，协程定义体中的yield 表达式会计算出42；现在，协程会恢复，一\n",
    "#直运行到下一个yield 表达式，或者终止。\n",
    "my_coro.send(42) # \n",
    "#➏ 这里，控制权流动到协程定义体的末尾，导致生成器像往常一样抛出StopIteration 异常。\n",
    "#协程可以身处四个状态中的一个。当前状态可以使用inspect.getgeneratorstate(...) 函\n",
    "#数确定，该函数会返回下述字符串中的一个。\n",
    "\n",
    "'''\n",
    "'GEN_CREATED'\n",
    "等待开始执行。\n",
    "'GEN_RUNNING'\n",
    "解释器正在执行。1\n",
    "'GEN_SUSPENDED'\n",
    "在yield 表达式处暂停。\n",
    "'GEN_CLOSED'\n",
    "执行结束。\n",
    "'''\n"
   ]
  },
  {
   "cell_type": "code",
   "execution_count": 7,
   "metadata": {},
   "outputs": [
    {
     "ename": "SyntaxError",
     "evalue": "'yield' outside function (<ipython-input-7-5088718f1715>, line 1)",
     "output_type": "error",
     "traceback": [
      "\u001b[1;36m  File \u001b[1;32m\"<ipython-input-7-5088718f1715>\"\u001b[1;36m, line \u001b[1;32m1\u001b[0m\n\u001b[1;33m    term = yield  3\u001b[0m\n\u001b[1;37m          ^\u001b[0m\n\u001b[1;31mSyntaxError\u001b[0m\u001b[1;31m:\u001b[0m 'yield' outside function\n"
     ]
    }
   ],
   "source": [
    "term = yield  3\n",
    "print(term)"
   ]
  },
  {
   "cell_type": "code",
   "execution_count": 20,
   "metadata": {},
   "outputs": [],
   "source": [
    "def averager():\n",
    "    total = 0.0\n",
    "    count = 0\n",
    "    average = None\n",
    "    while True: #➊\n",
    "        term = yield average #➋\n",
    "        print('term',term)\n",
    "        total += term\n",
    "        count += 1\n",
    "        average = total/count\n",
    "        print('average',average)\n",
    "        \n",
    "'''\n",
    "1.next激活协程，yield产出none,在此处暂停\n",
    "2.send(10)，再次激活协程，赋值term为send的值，一直计算到average=10/1,再次到yield处暂停，yield产出为10\n",
    "3.send(20),与上面类似\n",
    "\n",
    "'''"
   ]
  },
  {
   "cell_type": "code",
   "execution_count": 21,
   "metadata": {},
   "outputs": [],
   "source": [
    "coro_avg = averager() \n",
    "next(coro_avg)"
   ]
  },
  {
   "cell_type": "code",
   "execution_count": 22,
   "metadata": {},
   "outputs": [
    {
     "name": "stdout",
     "output_type": "stream",
     "text": [
      "term 10\n",
      "average 10.0\n"
     ]
    },
    {
     "data": {
      "text/plain": [
       "10.0"
      ]
     },
     "execution_count": 22,
     "metadata": {},
     "output_type": "execute_result"
    }
   ],
   "source": [
    "coro_avg.send(10)"
   ]
  },
  {
   "cell_type": "code",
   "execution_count": 23,
   "metadata": {},
   "outputs": [
    {
     "name": "stdout",
     "output_type": "stream",
     "text": [
      "term 5\n",
      "average 7.5\n"
     ]
    },
    {
     "data": {
      "text/plain": [
       "7.5"
      ]
     },
     "execution_count": 23,
     "metadata": {},
     "output_type": "execute_result"
    }
   ],
   "source": [
    "coro_avg.send(5)"
   ]
  },
  {
   "cell_type": "code",
   "execution_count": 24,
   "metadata": {},
   "outputs": [
    {
     "name": "stdout",
     "output_type": "stream",
     "text": [
      "term 20\n",
      "average 11.666666666666666\n"
     ]
    },
    {
     "data": {
      "text/plain": [
       "11.666666666666666"
      ]
     },
     "execution_count": 24,
     "metadata": {},
     "output_type": "execute_result"
    }
   ],
   "source": [
    "coro_avg.send(20)"
   ]
  },
  {
   "cell_type": "code",
   "execution_count": null,
   "metadata": {},
   "outputs": [],
   "source": []
  }
 ],
 "metadata": {
  "kernelspec": {
   "display_name": "Python 3",
   "language": "python",
   "name": "python3"
  },
  "language_info": {
   "codemirror_mode": {
    "name": "ipython",
    "version": 3
   },
   "file_extension": ".py",
   "mimetype": "text/x-python",
   "name": "python",
   "nbconvert_exporter": "python",
   "pygments_lexer": "ipython3",
   "version": "3.6.5"
  }
 },
 "nbformat": 4,
 "nbformat_minor": 2
}
