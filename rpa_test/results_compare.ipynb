{
 "cells": [
  {
   "cell_type": "code",
   "execution_count": 1,
   "metadata": {},
   "outputs": [
    {
     "name": "stdout",
     "output_type": "stream",
     "text": [
      " Volume in drive F is 私人专用\n",
      " Volume Serial Number is 30D8-ADD6\n",
      "\n",
      " Directory of F:\\陶士来文件\\tsl_python_project\\python_base\\rpa_test\n",
      "\n",
      "2020/01/18  11:45    <DIR>          .\n",
      "2020/01/18  11:45    <DIR>          ..\n",
      "2020/01/18  11:45    <DIR>          .ipynb_checkpoints\n",
      "2019/12/27  14:57                 0 __init__.py\n",
      "2019/12/28  10:18           115,170 app_test0.log\n",
      "2019/12/28  10:18           115,239 app_test01.log\n",
      "2019/12/28  10:18           276,144 app_test1.log\n",
      "2019/12/28  10:18           280,544 app_test2.log\n",
      "2020/01/11  22:49           276,649 log_3process.txt\n",
      "2020/01/10  14:37           265,266 log_final1.txt\n",
      "2020/01/10  12:03           267,156 log_final3.txt\n",
      "2020/01/10  10:43           173,422 log_final3_wrong.txt\n",
      "2019/12/28  10:18           115,236 log_test0.txt\n",
      "2019/12/28  10:19           115,229 log_test01.txt\n",
      "2019/12/28  10:18           274,084 log_test1.txt\n",
      "2019/12/28  10:18           278,666 log_test2.txt\n",
      "2019/12/27  15:02            53,192 process_monitor_waitress-serve_20298_test0.csv\n",
      "2019/12/27  15:02            33,118 process_monitor_waitress-serve_24531_test1.csv\n",
      "2019/12/27  15:02            42,474 process_monitor_waitress-serve_28764_test2.csv\n",
      "2019/12/27  15:02            59,758 process_monitor_waitress-serve_33049_test01.csv\n",
      "2020/01/18  10:59            72,688 recoged_result_new.txt\n",
      "2020/01/18  11:33            72,688 recoged_result_raw.txt\n",
      "2020/01/18  11:45                72 results_compare.ipynb\n",
      "2019/12/30  13:59             1,748 rpa_test.py\n",
      "              21 File(s)      2,888,543 bytes\n",
      "               3 Dir(s)  28,261,941,248 bytes free\n"
     ]
    }
   ],
   "source": [
    "ls"
   ]
  },
  {
   "cell_type": "code",
   "execution_count": 16,
   "metadata": {},
   "outputs": [],
   "source": [
    "import json\n",
    "import demjson"
   ]
  },
  {
   "cell_type": "code",
   "execution_count": 3,
   "metadata": {},
   "outputs": [],
   "source": [
    "path_raw='recoged_result_raw.txt'\n",
    "path_new='recoged_result_new.txt'"
   ]
  },
  {
   "cell_type": "code",
   "execution_count": 35,
   "metadata": {},
   "outputs": [],
   "source": [
    "f=open(path_raw,encoding='utf8').read()\n",
    "    \n",
    "    \n",
    "\n"
   ]
  },
  {
   "cell_type": "code",
   "execution_count": 37,
   "metadata": {},
   "outputs": [],
   "source": [
    "data=eval(f)"
   ]
  },
  {
   "cell_type": "code",
   "execution_count": 41,
   "metadata": {},
   "outputs": [
    {
     "data": {
      "text/plain": [
       "dict_keys(['result_e', 'result_c'])"
      ]
     },
     "execution_count": 41,
     "metadata": {},
     "output_type": "execute_result"
    }
   ],
   "source": [
    "data.keys()"
   ]
  },
  {
   "cell_type": "code",
   "execution_count": 29,
   "metadata": {},
   "outputs": [],
   "source": [
    "# dd"
   ]
  },
  {
   "cell_type": "code",
   "execution_count": 43,
   "metadata": {},
   "outputs": [
    {
     "data": {
      "text/plain": [
       "dict_keys(['0', '1', '2', '3', '4', '5', '6'])"
      ]
     },
     "execution_count": 43,
     "metadata": {},
     "output_type": "execute_result"
    }
   ],
   "source": [
    "data['result_e'].keys()"
   ]
  },
  {
   "cell_type": "code",
   "execution_count": 49,
   "metadata": {},
   "outputs": [
    {
     "data": {
      "text/plain": [
       "'3'"
      ]
     },
     "execution_count": 49,
     "metadata": {},
     "output_type": "execute_result"
    }
   ],
   "source": [
    "data['result_e']['1']['id']b"
   ]
  },
  {
   "cell_type": "code",
   "execution_count": null,
   "metadata": {},
   "outputs": [],
   "source": [
    "sorted(data,key=lambda x;x)"
   ]
  },
  {
   "cell_type": "code",
   "execution_count": 20,
   "metadata": {},
   "outputs": [
    {
     "data": {
      "text/plain": [
       "{'a': 1, 'b': 3}"
      ]
     },
     "execution_count": 20,
     "metadata": {},
     "output_type": "execute_result"
    }
   ],
   "source": [
    "x={'a':1,'b':3}\n",
    "demjson.decode(str(x))"
   ]
  },
  {
   "cell_type": "code",
   "execution_count": null,
   "metadata": {},
   "outputs": [],
   "source": []
  }
 ],
 "metadata": {
  "kernelspec": {
   "display_name": "Python 3",
   "language": "python",
   "name": "python3"
  },
  "language_info": {
   "codemirror_mode": {
    "name": "ipython",
    "version": 3
   },
   "file_extension": ".py",
   "mimetype": "text/x-python",
   "name": "python",
   "nbconvert_exporter": "python",
   "pygments_lexer": "ipython3",
   "version": "3.6.5"
  }
 },
 "nbformat": 4,
 "nbformat_minor": 2
}
