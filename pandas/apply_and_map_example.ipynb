{
 "cells": [
  {
   "cell_type": "code",
   "execution_count": 26,
   "metadata": {
    "collapsed": true
   },
   "outputs": [
    {
     "name": "stdout",
     "output_type": "stream",
     "text": [
      "          0         1         2\n0  1.247446 -0.897312  0.313416\n1  1.000000  2.000000  4.000000\n2  1.000000  4.000000  4.000000\n3  1.000000  2.000000  3.000000\n"
     ]
    }
   ],
   "source": [
    "import pandas as pd\n",
    "import numpy as np\n",
    "df_data = pd.DataFrame([np.random.randn(3), [1., 2., 4],\n",
    "                       [1, 4., 4], [1., 2., 3.]])\n",
    "print(df_data.head())\n"
   ]
  },
  {
   "cell_type": "code",
   "execution_count": 29,
   "metadata": {},
   "outputs": [
    {
     "name": "stdout",
     "output_type": "stream",
     "text": [
      "0    1.247446\n1    1.000000\n2    1.000000\n3    1.000000\nName: 0, dtype: float64 1.247446085926055\n0   -0.897312\n1    2.000000\n2    4.000000\n3    2.000000\nName: 1, dtype: float64 4.0\n0    0.313416\n1    4.000000\n2    4.000000\n3    3.000000\nName: 2, dtype: float64 4.0\n0    None\n1    None\n2    None\ndtype: object\n"
     ]
    }
   ],
   "source": [
    "print(df_data.apply(lambda x : print(x,x.max()),axis=0))\n",
    "#对列操作:依次是第一列、第二列、第三列"
   ]
  },
  {
   "cell_type": "code",
   "execution_count": 34,
   "metadata": {},
   "outputs": [
    {
     "name": "stdout",
     "output_type": "stream",
     "text": [
      "0    1.247446\n1    4.000000\n2    4.000000\ndtype: float64 <class 'pandas.core.series.Series'>\n"
     ]
    }
   ],
   "source": [
    "dd=df_data.apply(lambda x : x.max(),axis=0)\n",
    "print(dd,type(dd))\n",
    "#分别取第一行、第二行、第三行的最大值组成一个seres"
   ]
  },
  {
   "cell_type": "code",
   "execution_count": 31,
   "metadata": {},
   "outputs": [
    {
     "name": "stdout",
     "output_type": "stream",
     "text": [
      "1.247446085926055\n4.0\n4.0\n3.0\n0    None\n1    None\n2    None\n3    None\ndtype: object\n"
     ]
    }
   ],
   "source": [
    "print(df_data.apply(lambda x : print(x.max()),axis=1))"
   ]
  },
  {
   "cell_type": "code",
   "execution_count": 11,
   "metadata": {},
   "outputs": [
    {
     "name": "stdout",
     "output_type": "stream",
     "text": [
      "-0.5209729610140825\n0.4954031683779352\n0.04005431850032389\n0    None\n1    None\n2    None\ndtype: object\n"
     ]
    }
   ],
   "source": [
    "print(df_data.apply(lambda x : print(x[0]),axis=0))##对所有列操作每列取第一个元素，就是第一行"
   ]
  },
  {
   "cell_type": "code",
   "execution_count": 17,
   "metadata": {},
   "outputs": [
    {
     "name": "stdout",
     "output_type": "stream",
     "text": [
      "xxx <class 'pandas.core.series.Series'> 0   -0.520973\n1    1.000000\n2         NaN\n3    1.000000\nName: 0, dtype: float64\nxxx <class 'pandas.core.series.Series'> 0    0.495403\n1    2.000000\n2    4.000000\n3    2.000000\nName: 1, dtype: float64\n0    None\n1    None\ndtype: object\n"
     ]
    }
   ],
   "source": [
    "##groupby apply返回一个df,groupby agg返回的是series\n",
    "print(df_data[[0,1]].apply(lambda x : print('xxx',type(x),x)))"
   ]
  },
  {
   "cell_type": "code",
   "execution_count": 18,
   "metadata": {},
   "outputs": [
    {
     "name": "stdout",
     "output_type": "stream",
     "text": [
      "xxx <class 'pandas.core.frame.DataFrame'>           0         1         2\n0 -0.520973  0.495403  0.040054\nxxx <class 'pandas.core.frame.DataFrame'>           0         1         2\n0 -0.520973  0.495403  0.040054\nxxx <class 'pandas.core.frame.DataFrame'>      0    1    2\n1  1.0  2.0  NaN\n3  1.0  2.0  3.0\nEmpty DataFrame\nColumns: []\nIndex: []\n"
     ]
    }
   ],
   "source": [
    "print(df_data.groupby([0]).apply(lambda x : print('xxx',type(x),x)))"
   ]
  },
  {
   "cell_type": "code",
   "execution_count": 28,
   "metadata": {},
   "outputs": [
    {
     "name": "stdout",
     "output_type": "stream",
     "text": [
      "xxx <class 'pandas.core.series.Series'> 1    2.0\n2    4.0\n3    2.0\nName: 1, dtype: float64\nxxx <class 'pandas.core.series.Series'> 0   -0.897312\nName: 1, dtype: float64\nxxx <class 'pandas.core.series.Series'> 1    4.0\n2    4.0\n3    3.0\nName: 2, dtype: float64\nxxx <class 'pandas.core.series.Series'> 0    0.313416\nName: 2, dtype: float64\n           1   2\n0               \n1.000000 NaN NaN\n1.247446 NaN NaN\n"
     ]
    },
    {
     "data": {
      "text/plain": [
       "'\\n          0         1         2\\n0  1.247446 -0.897312  0.313416\\n1  1.000000  2.000000  4.000000\\n2  1.000000  4.000000  4.000000\\n3  1.000000  2.000000  3.000000\\n'"
      ]
     },
     "execution_count": 28,
     "metadata": {},
     "output_type": "execute_result"
    }
   ],
   "source": [
    "print(df_data.groupby([0]).agg(lambda x : print('xxx',type(x),x)))\n",
    "##传进来的参数分组之后的多列series，所以是对多列进行操作\n",
    "'''\n",
    "          0         1         2\n",
    "0  1.247446 -0.897312  0.313416\n",
    "1  1.000000  2.000000  4.000000\n",
    "2  1.000000  4.000000  4.000000\n",
    "3  1.000000  2.000000  3.000000\n",
    "'''"
   ]
  },
  {
   "cell_type": "code",
   "execution_count": 16,
   "metadata": {},
   "outputs": [
    {
     "name": "stdout",
     "output_type": "stream",
     "text": [
      "xxx -0.5209729610140825\nxxx 1.0\nxxx nan\nxxx 1.0\n0    None\n1    None\n2    None\n3    None\nName: 0, dtype: object\n"
     ]
    }
   ],
   "source": [
    "print(df_data[0].apply(lambda x : print('xxx',x)))#series就不存在坐标轴了,一列中一个个元素进行处理"
   ]
  },
  {
   "cell_type": "code",
   "execution_count": 22,
   "metadata": {},
   "outputs": [],
   "source": [
    ""
   ]
  },
  {
   "cell_type": "code",
   "execution_count": 23,
   "metadata": {},
   "outputs": [
    {
     "name": "stdout",
     "output_type": "stream",
     "text": [
      "xxx -0.5209729610140825\nxxx 1.0\nxxx nan\nxxx 1.0\n0    None\n1    None\n2    None\n3    None\nName: 0, dtype: object\n"
     ]
    }
   ],
   "source": [
    "print(df_data[0].map(lambda x : print('xxx',x)))\n",
    "##只能传进来一列，然后对每一个元素进行操作，此时功能与apply一样"
   ]
  },
  {
   "cell_type": "code",
   "execution_count": 39,
   "metadata": {},
   "outputs": [
    {
     "name": "stdout",
     "output_type": "stream",
     "text": [
      "          a         b         c\n0  1.247446 -0.897312  0.313416\n1  1.000000  2.000000  4.000000\n2  1.000000  4.000000  4.000000\n3  1.000000  2.000000  3.000000\n"
     ]
    }
   ],
   "source": [
    "\n",
    "df_data.columns=['a','b','c']\n",
    "print(df_data)"
   ]
  },
  {
   "cell_type": "code",
   "execution_count": 48,
   "metadata": {},
   "outputs": [
    {
     "name": "stdout",
     "output_type": "stream",
     "text": [
      "          a         b  new_feature\n0  1.000000  2.000000            2\n1  1.000000  4.000000            1\n2  1.247446 -0.897312            1\n"
     ]
    }
   ],
   "source": [
    "features=['a','b']\n",
    "temp = df_data.groupby(features).size().reset_index().rename(columns={0: 'new_feature'})\n",
    "print(temp)"
   ]
  },
  {
   "cell_type": "code",
   "execution_count": 49,
   "metadata": {},
   "outputs": [
    {
     "name": "stdout",
     "output_type": "stream",
     "text": [
      "          a  new_feature\n0  1.000000            3\n1  1.247446            1\n"
     ]
    }
   ],
   "source": [
    "features=['a']\n",
    "temp = df_data.groupby(features).size().reset_index().rename(columns={0: 'new_feature'})\n",
    "print(temp)"
   ]
  },
  {
   "cell_type": "code",
   "execution_count": 53,
   "metadata": {},
   "outputs": [
    {
     "name": "stdout",
     "output_type": "stream",
     "text": [
      "          a         b  c\n0  1.000000  2.000000  2\n1  1.000000  4.000000  1\n2  1.247446 -0.897312  1\n"
     ]
    }
   ],
   "source": [
    "features=['a','b']\n",
    "temp = df_data.groupby(features).count().reset_index().rename(columns={0: 'new_feature'})\n",
    "print(temp)"
   ]
  },
  {
   "cell_type": "code",
   "execution_count": 52,
   "metadata": {},
   "outputs": [
    {
     "name": "stdout",
     "output_type": "stream",
     "text": [
      "          a  b  c\n0  1.000000  3  3\n1  1.247446  1  1\n"
     ]
    }
   ],
   "source": [
    "features=['a']\n",
    "temp = df_data.groupby(features).count().reset_index().rename(columns={0: 'new_feature'})\n",
    "print(temp)"
   ]
  },
  {
   "cell_type": "code",
   "execution_count": null,
   "metadata": {},
   "outputs": [],
   "source": [
    "####总结\n",
    "# groupby \n",
    "# count:对by之后剩下的字段进行count\n",
    "# size:对by字段进行size"
   ]
  }
 ],
 "metadata": {
  "kernelspec": {
   "display_name": "Python 2",
   "language": "python",
   "name": "python2"
  },
  "language_info": {
   "codemirror_mode": {
    "name": "ipython",
    "version": 2
   },
   "file_extension": ".py",
   "mimetype": "text/x-python",
   "name": "python",
   "nbconvert_exporter": "python",
   "pygments_lexer": "ipython2",
   "version": "2.7.6"
  }
 },
 "nbformat": 4,
 "nbformat_minor": 0
}
