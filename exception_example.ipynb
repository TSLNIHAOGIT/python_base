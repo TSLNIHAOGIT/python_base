{
 "cells": [
  {
   "cell_type": "code",
   "execution_count": 3,
   "metadata": {},
   "outputs": [],
   "source": [
    "class MyError(Exception):\n",
    "    pass"
   ]
  },
  {
   "cell_type": "code",
   "execution_count": 7,
   "metadata": {},
   "outputs": [],
   "source": []
  },
  {
   "cell_type": "code",
   "execution_count": 18,
   "metadata": {},
   "outputs": [
    {
     "name": "stdout",
     "output_type": "stream",
     "text": [
      "go\n",
      "go\n",
      "go\n",
      "go\n",
      "go\n",
      "go\n",
      "go\n",
      "go\n",
      "go\n",
      "go\n",
      "err我的异常\n",
      "err我的异常\n",
      "err我的异常\n",
      "err我的异常\n",
      "err我的异常\n",
      "err我的异常\n",
      "go\n",
      "go\n",
      "go\n",
      "go\n",
      "go\n",
      "go\n",
      "go\n",
      "go\n",
      "go\n",
      "go\n",
      "go\n",
      "go\n",
      "go\n",
      "go\n"
     ]
    }
   ],
   "source": [
    "\n",
    "for i in range(30):\n",
    "    try :\n",
    "        if i<10 or i >15:\n",
    "            print('go')\n",
    "\n",
    "\n",
    "        else:\n",
    "            raise MyError('我的异常')\n",
    "    except Exception as e:\n",
    "        print(f'err{e}')"
   ]
  },
  {
   "cell_type": "code",
   "execution_count": 11,
   "metadata": {},
   "outputs": [
    {
     "name": "stdout",
     "output_type": "stream",
     "text": [
      "Hello, World!\n"
     ]
    }
   ],
   "source": [
    "name = \"World!\"\n",
    "print(f\"Hello, {name}\")"
   ]
  },
  {
   "cell_type": "code",
   "execution_count": 12,
   "metadata": {},
   "outputs": [
    {
     "data": {
      "text/plain": [
       "'你好，World!'"
      ]
     },
     "execution_count": 12,
     "metadata": {},
     "output_type": "execute_result"
    }
   ],
   "source": [
    "f\"你好，{name}\""
   ]
  },
  {
   "cell_type": "code",
   "execution_count": 13,
   "metadata": {},
   "outputs": [],
   "source": [
    "# group words by frequency\n",
    "words = [(1, 'apple'), (2, 'banana'), (1, 'cat')]\n",
    "frequency = {}"
   ]
  },
  {
   "cell_type": "code",
   "execution_count": 14,
   "metadata": {},
   "outputs": [],
   "source": [
    "for freq, word in words:\n",
    "    frequency.setdefault(freq, []).append(word)"
   ]
  },
  {
   "cell_type": "code",
   "execution_count": 15,
   "metadata": {},
   "outputs": [
    {
     "data": {
      "text/plain": [
       "{1: ['apple', 'cat'], 2: ['banana']}"
      ]
     },
     "execution_count": 15,
     "metadata": {},
     "output_type": "execute_result"
    }
   ],
   "source": [
    "frequency "
   ]
  },
  {
   "cell_type": "code",
   "execution_count": 28,
   "metadata": {},
   "outputs": [
    {
     "name": "stdout",
     "output_type": "stream",
     "text": [
      "3\n",
      "3\n"
     ]
    }
   ],
   "source": [
    "#!/usr/bin/env python\n",
    "# coding=utf-8\n",
    "# 正则表达式字符串需要经过两次转义，这两次分别是上面的“字符串转义”和“正则转义”，\n",
    "# 个人认为“字符串转义”一定先于“正则转义”。\n",
    " \n",
    "import re\n",
    " \n",
    "string = '3\\8'\n",
    "# #首先进行字符串转义，前两个反斜线转移成第一个反斜线，后两个反斜线转移成第二个反斜线，\n",
    "# 然后进行正则转义，第一、第二个反斜线，被转义成匹配一个反斜线\n",
    "m = re.search('(\\d+)\\\\\\\\', string)\n",
    "\n",
    "    \n",
    "if m is not None:\n",
    "    print (m.group(1))  # 结果为：3\n",
    " \n",
    "# r是让字符串不进行转义，就是原始字符串和“正则表达式转义是独立的”，因此这里不进行字符串转义，\n",
    "# 在进行正则表达式转义时，双反斜线，被转移成匹配一个反斜线\n",
    "n = re.search(r'(\\d+)\\\\', string)\n",
    " \n",
    "if n is not None:\n",
    "    print (n.group(1))  # 结果为：3"
   ]
  },
  {
   "cell_type": "code",
   "execution_count": 29,
   "metadata": {},
   "outputs": [
    {
     "data": {
      "text/plain": [
       "re.compile(r'\\\\', re.UNICODE)"
      ]
     },
     "execution_count": 29,
     "metadata": {},
     "output_type": "execute_result"
    }
   ],
   "source": [
    "re.compile('\\\\\\\\')"
   ]
  },
  {
   "cell_type": "code",
   "execution_count": null,
   "metadata": {},
   "outputs": [],
   "source": []
  }
 ],
 "metadata": {
  "kernelspec": {
   "display_name": "Python 3",
   "language": "python",
   "name": "python3"
  },
  "language_info": {
   "codemirror_mode": {
    "name": "ipython",
    "version": 3
   },
   "file_extension": ".py",
   "mimetype": "text/x-python",
   "name": "python",
   "nbconvert_exporter": "python",
   "pygments_lexer": "ipython3",
   "version": "3.6.5"
  }
 },
 "nbformat": 4,
 "nbformat_minor": 2
}
