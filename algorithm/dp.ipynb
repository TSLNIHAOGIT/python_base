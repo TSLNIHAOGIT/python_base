{
 "cells": [
  {
   "cell_type": "code",
   "execution_count": 1,
   "metadata": {},
   "outputs": [],
   "source": [
    "list01=[1,2,6,3]"
   ]
  },
  {
   "cell_type": "code",
   "execution_count": 14,
   "metadata": {},
   "outputs": [
    {
     "name": "stdout",
     "output_type": "stream",
     "text": [
      "[1, 1, 1, 2, 2, 3, 4, 4, 5, 5, 1, 3, 4, 5, 5]\n",
      "5\n"
     ]
    }
   ],
   "source": [
    "def len_of_longest_ascending_subsequences(nums):\n",
    "        #长度为1或者为空的返回长度，程序结束\n",
    "\t\tif len(nums)<=1:\n",
    "\t\t\treturn len(nums)\n",
    "\t\t# 用来存放各个字串的最长上升子序列个数\n",
    "        ##初始化所有值为1，没有元素时返回0，至少一个元素时就是1;mem[i]>=1；最大值初始化\n",
    "\t\tmem = [1 for _ in range(len(nums))]\n",
    "\n",
    "        #实际上len(nums)至少大于等于2\n",
    "\t\tfor j in range(1,len(nums)):\n",
    "\t\t\tfor i in range(0,j):\n",
    "\t\t\t\t# 1<2\n",
    "\t\t\t\tif nums[i]<nums[j]:\n",
    "\t\t\t\t\t# max(1,1+1)\n",
    "\t\t\t\t\t# 更新各个字串的最长上升子序列个数\n",
    "\t\t\t\t\t# 状态转移方程#要求mem[j],假设只有两个元素时，将mem[i]+1和初始值比较，取最大\n",
    "\t\t\t\t\tmem[j] = max(mem[j],mem[i]+1)\n",
    "\t\t\t\t\t# mem[1] = 2\n",
    "\t\tprint(mem)\n",
    "\n",
    "\t\treturn max(mem)#最终的结果是所有mem中的最大值\n",
    "# list01=[2,-5,-6,-8,-3,3,56,6,3,6,7,100,9,3]\n",
    "list01=[1,2]\n",
    "list01=[10,9,2,5,3,7,101,18,35,23,2,4,5,6,6]\n",
    "print(len_of_longest_ascending_subsequences(list01))\n"
   ]
  },
  {
   "cell_type": "code",
   "execution_count": 7,
   "metadata": {},
   "outputs": [],
   "source": [
    "class Solution(object):\n",
    "    def lengthOfLIS(self, nums):\n",
    "        \"\"\"\n",
    "        :type nums: List[int]\n",
    "        :rtype: int\n",
    "        \"\"\"\n",
    "        l = len(nums)\n",
    "        if not l:\n",
    "            return 0\n",
    "        dp = [1 for _ in range(l)]\n",
    "        \n",
    "        for i in range(1, l):\n",
    "            for j in range(i):\n",
    "                if nums[i] > nums[j]:\n",
    "                    dp[i] = max(dp[j] + 1, dp[i])\n",
    "        print(dp)\n",
    "                    \n",
    "        return max(dp)\n"
   ]
  },
  {
   "cell_type": "code",
   "execution_count": 5,
   "metadata": {},
   "outputs": [
    {
     "name": "stdout",
     "output_type": "stream",
     "text": [
      "[1, 1, 1, 2, 2, 3, 4, 4]\n"
     ]
    },
    {
     "data": {
      "text/plain": [
       "4"
      ]
     },
     "execution_count": 5,
     "metadata": {},
     "output_type": "execute_result"
    }
   ],
   "source": [
    "Solution().lengthOfLIS(list01)"
   ]
  },
  {
   "cell_type": "code",
   "execution_count": 1,
   "metadata": {},
   "outputs": [
    {
     "name": "stdout",
     "output_type": "stream",
     "text": [
      "0\n"
     ]
    }
   ],
   "source": [
    "for i in range(0,1):\n",
    "    print(i)"
   ]
  },
  {
   "cell_type": "code",
   "execution_count": 15,
   "metadata": {},
   "outputs": [
    {
     "name": "stdout",
     "output_type": "stream",
     "text": [
      "[1, 1, 1, 2, 2, 3, 4, 4, 5, 5, 1, 3, 4, 5, 5]\n"
     ]
    },
    {
     "data": {
      "text/plain": [
       "5"
      ]
     },
     "execution_count": 15,
     "metadata": {},
     "output_type": "execute_result"
    }
   ],
   "source": [
    "# list01=[10,9,2,5,3,7,101,18]\n",
    "def lis_exercise(nums):\n",
    "    if not nums:\n",
    "        return 0\n",
    "    nums_len=len(nums)\n",
    "    mems=[1 for _ in range(nums_len)]\n",
    "    for i in range(1,nums_len):\n",
    "        for j in range(0,i):\n",
    "            if nums[i]>nums[j]:\n",
    "                mems[i]=max(mems[i],mems[j]+1)\n",
    "    print(mems)\n",
    "    return max(mems)\n",
    "lis_exercise(list01)"
   ]
  },
  {
   "cell_type": "code",
   "execution_count": null,
   "metadata": {},
   "outputs": [],
   "source": [
    "# 给定正整数 n，找到若干个完全平方数（比如 1, 4, 9, 16, ...）使得它们的和等于 n。你需要让组成和的完全平方数的个数最少。\n",
    "\n",
    "# 示例 1:\n",
    "\n",
    "# 输入: n = 12\n",
    "# 输出: 3 \n",
    "# 解释: 12 = 4 + 4 + 4.\n",
    "# 示例 2:\n",
    "\n",
    "# 输入: n = 13\n",
    "# 输出: 2\n",
    "# 解释: 13 = 4 + 9.\n",
    "\n",
    "# 来源：力扣（LeetCode）\n",
    "# 链接：https://leetcode-cn.com/problems/perfect-squares\n",
    "# 著作权归领扣网络所有。商业转载请联系官方授权，非商业转载请注明出处。"
   ]
  },
  {
   "cell_type": "code",
   "execution_count": 16,
   "metadata": {},
   "outputs": [],
   "source": [
    "dd={(1,2):{'所属道路':'日钢北路','单向车道数':2,'道路宽度':12}}"
   ]
  },
  {
   "cell_type": "code",
   "execution_count": 22,
   "metadata": {},
   "outputs": [
    {
     "data": {
      "text/plain": [
       "'道路不存在'"
      ]
     },
     "execution_count": 22,
     "metadata": {},
     "output_type": "execute_result"
    }
   ],
   "source": [
    "dd.get((1,2),'节点不存在').get('道路宽度1','道路不存在')"
   ]
  },
  {
   "cell_type": "code",
   "execution_count": 31,
   "metadata": {},
   "outputs": [
    {
     "name": "stdout",
     "output_type": "stream",
     "text": [
      "<class 'uuid.UUID'> 0f1c12de-4cd5-4088-9fcc-773451bb18f2\n",
      "<class 'uuid.UUID'> 8458a8e6-7a46-4249-86e9-45dd14fd3b40\n",
      "<class 'uuid.UUID'> 1f9edc6f-2285-4e1b-a158-9467225dbe0b\n",
      "<class 'uuid.UUID'> 3601274e-ccff-4c58-96af-fed955c937cf\n",
      "<class 'uuid.UUID'> 21bbc42e-d677-42ef-b4e5-09be73ad9893\n",
      "<class 'uuid.UUID'> 8b53a567-a90c-4b34-8b36-61f6a13d1df5\n",
      "<class 'uuid.UUID'> ecb460cd-8e6e-4d2b-8e44-fc5c051844fd\n",
      "<class 'uuid.UUID'> 3e6ac22e-19a6-47cc-8c60-58c570eddd25\n",
      "<class 'uuid.UUID'> 7f3aa2c7-1475-44a7-99c0-de94dc6af292\n",
      "<class 'uuid.UUID'> 4ffb01b6-4d06-4c1f-8a4d-20e38825e95c\n",
      "<class 'uuid.UUID'> 0ae77d77-5a49-4165-86fe-3fe67a95dde6\n",
      "<class 'uuid.UUID'> a5074410-5513-43c6-823e-4e5e61af3355\n",
      "<class 'uuid.UUID'> 776baf3b-ed5a-4ffa-b83a-c508384cce18\n",
      "<class 'uuid.UUID'> 714e8813-7119-4714-bd8b-fa06f41c2c1d\n",
      "<class 'uuid.UUID'> 6fb6586a-bb06-4e09-8717-a303890b384c\n",
      "<class 'uuid.UUID'> fa274bb6-9d3b-429e-b2c7-927fcfee5bdf\n",
      "<class 'uuid.UUID'> b7aeb087-d80d-4c20-a224-9afa7542bc47\n",
      "<class 'uuid.UUID'> 8ac649c9-41c1-4bf2-93d8-5680aae97f97\n",
      "<class 'uuid.UUID'> d1a85ef7-f9f1-4d24-a1c8-3a8dfe6290ba\n",
      "<class 'uuid.UUID'> 5f7ac4e1-825c-48fc-af2c-47041722e497\n"
     ]
    }
   ],
   "source": [
    "import uuid\n",
    "for _ in range(20):\n",
    "    uid = str(uuid.uuid4())\n",
    "    uid=uuid.uuid4()\n",
    "    print(type(uid),uid)\n",
    "#     suid = ''.join(uid.split('-'))\n"
   ]
  },
  {
   "cell_type": "code",
   "execution_count": 25,
   "metadata": {},
   "outputs": [
    {
     "data": {
      "text/plain": [
       "'3eeffa87c3f4407280cb68866009f6d1'"
      ]
     },
     "execution_count": 25,
     "metadata": {},
     "output_type": "execute_result"
    }
   ],
   "source": [
    "suid"
   ]
  },
  {
   "cell_type": "code",
   "execution_count": null,
   "metadata": {},
   "outputs": [],
   "source": []
  }
 ],
 "metadata": {
  "kernelspec": {
   "display_name": "Python 3",
   "language": "python",
   "name": "python3"
  },
  "language_info": {
   "codemirror_mode": {
    "name": "ipython",
    "version": 3
   },
   "file_extension": ".py",
   "mimetype": "text/x-python",
   "name": "python",
   "nbconvert_exporter": "python",
   "pygments_lexer": "ipython3",
   "version": "3.6.5"
  }
 },
 "nbformat": 4,
 "nbformat_minor": 2
}
